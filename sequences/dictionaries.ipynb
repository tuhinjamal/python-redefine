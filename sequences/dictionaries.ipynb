{
 "cells": [
  {
   "cell_type": "markdown",
   "metadata": {},
   "source": [
    "Dictionaries ordered and changable no duplicate"
   ]
  },
  {
   "cell_type": "code",
   "execution_count": 13,
   "metadata": {},
   "outputs": [
    {
     "name": "stdout",
     "output_type": "stream",
     "text": [
      "{'name': 'tuhinjamal', 'age': 32}\n"
     ]
    }
   ],
   "source": [
    "dic = {\n",
    "    \n",
    "    'name' : 'tuhinjamal',\n",
    "    'age' : 32\n",
    "}\n",
    "print(dic)"
   ]
  },
  {
   "cell_type": "code",
   "execution_count": 14,
   "metadata": {},
   "outputs": [
    {
     "data": {
      "text/plain": [
       "dict_keys(['name', 'age'])"
      ]
     },
     "execution_count": 14,
     "metadata": {},
     "output_type": "execute_result"
    }
   ],
   "source": [
    "dic.keys()"
   ]
  },
  {
   "cell_type": "code",
   "execution_count": 15,
   "metadata": {},
   "outputs": [
    {
     "data": {
      "text/plain": [
       "dict_values(['tuhinjamal', 32])"
      ]
     },
     "execution_count": 15,
     "metadata": {},
     "output_type": "execute_result"
    }
   ],
   "source": [
    "dic.values()"
   ]
  },
  {
   "cell_type": "code",
   "execution_count": 16,
   "metadata": {},
   "outputs": [
    {
     "name": "stdout",
     "output_type": "stream",
     "text": [
      "{'name': 'Yusuf', 'age': 32}\n"
     ]
    }
   ],
   "source": [
    "dic['name'] = 'Yusuf'\n",
    "print(dic)"
   ]
  },
  {
   "cell_type": "code",
   "execution_count": 24,
   "metadata": {},
   "outputs": [
    {
     "name": "stdout",
     "output_type": "stream",
     "text": [
      "[{'name': 'tuhinjamal', 'age': 32}, {'name': 'yusuf', 'age': 3.4}, {'name': 'mahadi', 'age': 15}]\n"
     ]
    }
   ],
   "source": [
    "ls = [{'name':'tuhinjamal','age':32},{'name':'yusuf','age':3.4},{'name':'mahadi','age':15}]\n",
    "print(ls)"
   ]
  },
  {
   "cell_type": "code",
   "execution_count": 25,
   "metadata": {},
   "outputs": [
    {
     "name": "stdout",
     "output_type": "stream",
     "text": [
      "tuhinjamal 32\n",
      "yusuf 3.4\n",
      "mahadi 15\n"
     ]
    }
   ],
   "source": [
    "for x in ls:\n",
    "    print(x['name'] ,x['age'])\n",
    "    "
   ]
  },
  {
   "cell_type": "code",
   "execution_count": 26,
   "metadata": {},
   "outputs": [
    {
     "name": "stdout",
     "output_type": "stream",
     "text": [
      "{'name': 'samira'}\n"
     ]
    }
   ],
   "source": [
    "n = int(input('input the length of n'))\n",
    "d ={}\n",
    "for x in range(n):\n",
    "    key = str(input('key'))\n",
    "    val = input('value')\n",
    "    d[key] = val\n",
    "print(d)\n"
   ]
  }
 ],
 "metadata": {
  "kernelspec": {
   "display_name": "Python 3",
   "language": "python",
   "name": "python3"
  },
  "language_info": {
   "codemirror_mode": {
    "name": "ipython",
    "version": 3
   },
   "file_extension": ".py",
   "mimetype": "text/x-python",
   "name": "python",
   "nbconvert_exporter": "python",
   "pygments_lexer": "ipython3",
   "version": "3.12.2"
  }
 },
 "nbformat": 4,
 "nbformat_minor": 2
}
