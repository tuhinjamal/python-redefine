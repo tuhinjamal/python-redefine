{
 "cells": [
  {
   "cell_type": "markdown",
   "metadata": {},
   "source": [
    "Frozen Set is the immutable version python set"
   ]
  },
  {
   "cell_type": "code",
   "execution_count": 1,
   "metadata": {},
   "outputs": [
    {
     "name": "stdout",
     "output_type": "stream",
     "text": [
      "{1, 2, 3, 4, 5, 6, 8, 9, 87}\n",
      "{'a', 'e', 'c', 'd', 'f', 'b'}\n"
     ]
    }
   ],
   "source": [
    "s1 = {1,2,3,4,5,6,87,8,9}\n",
    "s2 = {'a', 'b', 'c', 'd', 'e', 'f'}\n",
    "s3 = {1,2,5,6,8,11,24,35,68,79,}\n",
    "print(s1)\n",
    "print(s2)"
   ]
  },
  {
   "cell_type": "markdown",
   "metadata": {},
   "source": [
    "Frozen Set"
   ]
  },
  {
   "cell_type": "code",
   "execution_count": 2,
   "metadata": {},
   "outputs": [
    {
     "name": "stdout",
     "output_type": "stream",
     "text": [
      "frozenset({1, 2, 3, 4, 5, 6, 68, 8, 9, 11, 79, 87, 24, 35})\n",
      "frozenset({1, 2, 5, 6, 8})\n"
     ]
    }
   ],
   "source": [
    "s4 = frozenset(s1)\n",
    "s5 = frozenset(s3)\n",
    "print(s4.union(s5))\n",
    "print(s4.intersection(s5))\n"
   ]
  },
  {
   "cell_type": "code",
   "execution_count": 4,
   "metadata": {},
   "outputs": [
    {
     "name": "stdout",
     "output_type": "stream",
     "text": [
      "frozenset({'e', 't', ' ', 'D', 'S', 'c', 'i', 'n', 'a'})\n"
     ]
    },
    {
     "data": {
      "text/plain": [
       "[['e'], ['t'], [' '], ['D'], ['S'], ['c'], ['i'], ['n'], ['a']]"
      ]
     },
     "execution_count": 4,
     "metadata": {},
     "output_type": "execute_result"
    }
   ],
   "source": [
    "data = \"Data Scienct\"\n",
    "frozenData = frozenset(data)\n",
    "print(frozenData)"
   ]
  },
  {
   "cell_type": "code",
   "execution_count": 6,
   "metadata": {},
   "outputs": [
    {
     "name": "stdout",
     "output_type": "stream",
     "text": [
      "[['e'], ['t'], [' '], ['D'], ['S'], ['c'], ['i'], ['n'], ['a']]\n",
      "[['e'], ['t'], [' '], ['D'], ['S'], ['c'], ['i'], ['n'], ['a']]\n",
      "[{'e'}, {'t'}, {' '}, {'D'}, {'S'}, {'c'}, {'i'}, {'n'}, {'a'}]\n"
     ]
    }
   ],
   "source": [
    "print([list(x) for x in frozenData])\n",
    "print([list(x) for x in frozenData])\n",
    "print([set(x) for x in frozenData])"
   ]
  }
 ],
 "metadata": {
  "kernelspec": {
   "display_name": "Python 3",
   "language": "python",
   "name": "python3"
  },
  "language_info": {
   "codemirror_mode": {
    "name": "ipython",
    "version": 3
   },
   "file_extension": ".py",
   "mimetype": "text/x-python",
   "name": "python",
   "nbconvert_exporter": "python",
   "pygments_lexer": "ipython3",
   "version": "3.12.2"
  }
 },
 "nbformat": 4,
 "nbformat_minor": 2
}
