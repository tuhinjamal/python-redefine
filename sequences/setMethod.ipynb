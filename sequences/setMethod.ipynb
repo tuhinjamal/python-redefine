{
 "cells": [
  {
   "cell_type": "markdown",
   "metadata": {},
   "source": [
    "Set Methods"
   ]
  },
  {
   "cell_type": "code",
   "execution_count": 1,
   "metadata": {},
   "outputs": [
    {
     "name": "stdout",
     "output_type": "stream",
     "text": [
      "{0, 1, 2, 3, 4, 5, 6, 7, 8, 9}\n",
      "{1, 2, 3, 4, 'd', 'b', 'c', 'a'}\n",
      "frozenset({1, 2, 3, 4, 'd', 'b', 'c', 'a'})\n"
     ]
    }
   ],
   "source": [
    "s1 = {1,2,3,4,5,6,7,8,9,0}\n",
    "s2 = {'a','b',1,2,3,4,'c','d'}\n",
    "s3 = frozenset(s2)\n",
    "print(s1)\n",
    "print(s2)\n",
    "print(s3)"
   ]
  },
  {
   "cell_type": "code",
   "execution_count": 2,
   "metadata": {},
   "outputs": [
    {
     "name": "stdout",
     "output_type": "stream",
     "text": [
      "{0, 1, 2, 3, 4, 5, 6, 7, 8, 9, 'Hello World'}\n",
      "{0, 1, 2, 3, 4, 5, 6, 7, 8, 9, 'Hello World'}\n",
      "{0, 1, 2, 3, 4, 5, 6, 7, 8, 9}\n"
     ]
    }
   ],
   "source": [
    "# add method\n",
    "s1.add(\"Hello World\")\n",
    "print(s1)\n",
    "s4 = s1.copy()\n",
    "s4.remove('Hello World')\n",
    "print(s1)\n",
    "print(s4)"
   ]
  },
  {
   "cell_type": "markdown",
   "metadata": {},
   "source": [
    "difference"
   ]
  },
  {
   "cell_type": "code",
   "execution_count": 3,
   "metadata": {},
   "outputs": [
    {
     "name": "stdout",
     "output_type": "stream",
     "text": [
      "{0, 1, 2, 3, 4, 5, 6, 7, 8, 9, 'Hello World'}\n",
      "{1, 2, 3, 4, 'd', 'b', 'c', 'a'}\n",
      "after differnce update {0, 5, 6, 7, 8, 9, 'Hello World'}\n"
     ]
    }
   ],
   "source": [
    "print(s1)\n",
    "print(s2)\n",
    "s1.difference(s2)\n",
    "s1.difference_update(s2)\n",
    "print('after differnce update',s1)"
   ]
  },
  {
   "cell_type": "code",
   "execution_count": 4,
   "metadata": {},
   "outputs": [
    {
     "name": "stdout",
     "output_type": "stream",
     "text": [
      "True\n",
      "True\n"
     ]
    }
   ],
   "source": [
    "mainSet = {1,2,3,4,5,6,7,8,9}\n",
    "subSet = {5,6,4,3,2}\n",
    "print(subSet.issubset(mainSet))\n",
    "print(mainSet.issuperset(subSet))"
   ]
  },
  {
   "cell_type": "markdown",
   "metadata": {},
   "source": [
    "symmetric "
   ]
  },
  {
   "cell_type": "code",
   "execution_count": 13,
   "metadata": {},
   "outputs": [
    {
     "name": "stdout",
     "output_type": "stream",
     "text": [
      "{1, 2, 4, 5, 7, 8}\n",
      "{4, 5}\n",
      "{4, 5, 7, 8}\n"
     ]
    }
   ],
   "source": [
    "a = {1,2,7,8}\n",
    "b = {1,2,4,5}\n",
    "a.symmetric_difference(b)\n",
    "a.symmetric_difference_update(b)\n",
    "print(a.union(b))\n",
    "print(a.intersection(b))\n",
    "print(a)"
   ]
  }
 ],
 "metadata": {
  "kernelspec": {
   "display_name": "Python 3",
   "language": "python",
   "name": "python3"
  },
  "language_info": {
   "codemirror_mode": {
    "name": "ipython",
    "version": 3
   },
   "file_extension": ".py",
   "mimetype": "text/x-python",
   "name": "python",
   "nbconvert_exporter": "python",
   "pygments_lexer": "ipython3",
   "version": "3.12.2"
  }
 },
 "nbformat": 4,
 "nbformat_minor": 2
}
