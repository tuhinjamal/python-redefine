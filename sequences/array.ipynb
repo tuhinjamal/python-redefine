{
 "cells": [
  {
   "cell_type": "markdown",
   "metadata": {},
   "source": [
    "Array In Python"
   ]
  },
  {
   "cell_type": "code",
   "execution_count": 1,
   "metadata": {},
   "outputs": [
    {
     "name": "stdout",
     "output_type": "stream",
     "text": [
      "array('i', [1, 2, 3, 4, 5, 6, 7, 8, 9])\n",
      "array('f', [1.0, 2.0, 3.0, 4.0, 5.0, 6.0, 7.0, 8.0, 9.880000114440918])\n",
      "array('i', [2, 3, 4, 5, 6, 7, 8, 9, 500])\n",
      "9\n"
     ]
    }
   ],
   "source": [
    "import array as arr\n",
    "intArr = arr.array('i',[1,2,3,4,5,6,7,8,9])\n",
    "print(intArr)\n",
    "floatArr = arr.array('f',[1,2,3,4,5,6,7,8,9.88])\n",
    "print(floatArr)\n",
    "\n",
    "intArr.append(500)\n",
    "del intArr[0]\n",
    "print(intArr)\n",
    "print(len(intArr))\n",
    "\n"
   ]
  },
  {
   "cell_type": "code",
   "execution_count": 26,
   "metadata": {},
   "outputs": [
    {
     "name": "stdout",
     "output_type": "stream",
     "text": [
      "array('i', [3, 5, 1, 2, 45, 76, 9, 60])\n"
     ]
    },
    {
     "data": {
      "text/plain": [
       "4"
      ]
     },
     "execution_count": 26,
     "metadata": {},
     "output_type": "execute_result"
    }
   ],
   "source": [
    "ar2 = arr.array('i',[60,9,76,45,2,1,5,3])\n",
    "ar2.reverse()\n",
    "\n",
    "print(ar2)\n",
    "ar2.count(45)\n",
    "ar2.index(45)"
   ]
  },
  {
   "cell_type": "code",
   "execution_count": 17,
   "metadata": {},
   "outputs": [
    {
     "name": "stdout",
     "output_type": "stream",
     "text": [
      "array('i', [1, 2])\n"
     ]
    }
   ],
   "source": [
    "inputBasedArray = arr.array('i',[])\n",
    "items = int(input('Input the length of array'))\n",
    "for i in range(items):\n",
    "    val = int(input('input value'))\n",
    "    inputBasedArray.append(val)\n",
    "print(inputBasedArray)"
   ]
  },
  {
   "cell_type": "code",
   "execution_count": 22,
   "metadata": {},
   "outputs": [
    {
     "name": "stdout",
     "output_type": "stream",
     "text": [
      "['BMW', 'Ford', 'Volvo']\n"
     ]
    }
   ],
   "source": []
  }
 ],
 "metadata": {
  "kernelspec": {
   "display_name": "Python 3",
   "language": "python",
   "name": "python3"
  },
  "language_info": {
   "codemirror_mode": {
    "name": "ipython",
    "version": 3
   },
   "file_extension": ".py",
   "mimetype": "text/x-python",
   "name": "python",
   "nbconvert_exporter": "python",
   "pygments_lexer": "ipython3",
   "version": "3.12.2"
  }
 },
 "nbformat": 4,
 "nbformat_minor": 2
}
