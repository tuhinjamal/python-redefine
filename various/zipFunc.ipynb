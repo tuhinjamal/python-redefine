{
 "cells": [
  {
   "cell_type": "code",
   "execution_count": 1,
   "metadata": {},
   "outputs": [
    {
     "name": "stdout",
     "output_type": "stream",
     "text": [
      "[('Yusuf', 3), ('Mahadi', 12), ('Falak', 6)]\n"
     ]
    }
   ],
   "source": [
    "name = ['Yusuf', 'Mahadi', 'Falak']\n",
    "age = [3,12,6]\n",
    "zipped = list(zip(name,age))\n",
    "print(zipped)"
   ]
  },
  {
   "cell_type": "code",
   "execution_count": 2,
   "metadata": {},
   "outputs": [
    {
     "name": "stdout",
     "output_type": "stream",
     "text": [
      "('Yusuf', 'Mahadi', 'Falak')\n",
      "(3, 12, 6)\n"
     ]
    }
   ],
   "source": [
    "unzippedName, unzippedAge = zip(*zipped)\n",
    "print(unzippedName)\n",
    "print(unzippedAge)"
   ]
  },
  {
   "cell_type": "code",
   "execution_count": 3,
   "metadata": {},
   "outputs": [
    {
     "name": "stdout",
     "output_type": "stream",
     "text": [
      "rank 0, name=Yusuf, age=3\n",
      "rank 1, name=Mahadi, age=12\n",
      "rank 2, name=Falak, age=6\n"
     ]
    }
   ],
   "source": [
    "# enumerating iterate over pair 1st method\n",
    "for index , pair in enumerate(zipped):\n",
    "    name,age = pair\n",
    "    print('rank {}, name={}, age={}'.format(index, name, age))"
   ]
  },
  {
   "cell_type": "code",
   "execution_count": 4,
   "metadata": {},
   "outputs": [
    {
     "name": "stdout",
     "output_type": "stream",
     "text": [
      "(0, ('Yusuf', 3))\n",
      "(1, ('Mahadi', 12))\n",
      "(2, ('Falak', 6))\n"
     ]
    }
   ],
   "source": [
    "# enumerating iterate over pair 2nd method\n",
    "for data in enumerate(zipped):\n",
    "    name,age = data\n",
    "    print(data)"
   ]
  },
  {
   "cell_type": "code",
   "execution_count": 26,
   "metadata": {},
   "outputs": [],
   "source": [
    "import zipfile as zp\n",
    "zipped = zp.ZipFile('Ai.zip','w')\n",
    "zipped.write('../dummy.csv')\n",
    "zipped.write('../basic.ipynb')"
   ]
  },
  {
   "cell_type": "code",
   "execution_count": 28,
   "metadata": {},
   "outputs": [],
   "source": [
    "\n",
    "with zp.ZipFile('Ai.zip', 'r') as file:\n",
    "    file.extractall('../Unzipped')"
   ]
  }
 ],
 "metadata": {
  "kernelspec": {
   "display_name": "Python 3",
   "language": "python",
   "name": "python3"
  },
  "language_info": {
   "codemirror_mode": {
    "name": "ipython",
    "version": 3
   },
   "file_extension": ".py",
   "mimetype": "text/x-python",
   "name": "python",
   "nbconvert_exporter": "python",
   "pygments_lexer": "ipython3",
   "version": "3.12.2"
  }
 },
 "nbformat": 4,
 "nbformat_minor": 2
}
