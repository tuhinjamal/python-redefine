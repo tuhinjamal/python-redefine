{
 "cells": [
  {
   "cell_type": "code",
   "execution_count": 1,
   "id": "5e927ba6",
   "metadata": {},
   "outputs": [],
   "source": [
    "def mulp():\n",
    "    x = int(input('x = '))\n",
    "    y = int(input('y = '))\n",
    "    result = x*y\n",
    "    print(result)"
   ]
  },
  {
   "cell_type": "code",
   "execution_count": 2,
   "id": "193bb52b",
   "metadata": {},
   "outputs": [
    {
     "name": "stdout",
     "output_type": "stream",
     "text": [
      "x = 2\n",
      "y = 5\n",
      "10\n"
     ]
    }
   ],
   "source": [
    "mulp()"
   ]
  },
  {
   "cell_type": "code",
   "execution_count": 3,
   "id": "9823617d",
   "metadata": {},
   "outputs": [],
   "source": [
    "def mulp1():\n",
    "    x = int(input('x = '))\n",
    "    y = int(input('y = '))\n",
    "    result = x*y\n",
    "    print('result ', result)\n",
    "    return result\n",
    "    \n",
    "def mulp2():\n",
    "    total1 = mulp1()\n",
    "    z = int(input('z = '))\n",
    "    total2 = total1 * z\n",
    "    print('final result = ', total2)"
   ]
  },
  {
   "cell_type": "code",
   "execution_count": 4,
   "id": "17a99bce",
   "metadata": {},
   "outputs": [
    {
     "name": "stdout",
     "output_type": "stream",
     "text": [
      "x = 2\n",
      "y = 5\n",
      "result  10\n",
      "z = 10\n",
      "final result =  100\n"
     ]
    }
   ],
   "source": [
    "mulp2()"
   ]
  },
  {
   "cell_type": "markdown",
   "id": "45d3fed7",
   "metadata": {},
   "source": [
    "# separately"
   ]
  },
  {
   "cell_type": "code",
   "execution_count": 5,
   "id": "ed85dd82",
   "metadata": {},
   "outputs": [],
   "source": [
    "def mulp1():\n",
    "    x = int(input('x = '))\n",
    "    y = int(input('y = '))\n",
    "    result = x*y\n",
    "    print('result ', result)\n",
    "    return result"
   ]
  },
  {
   "cell_type": "code",
   "execution_count": 6,
   "id": "f6070da6",
   "metadata": {},
   "outputs": [],
   "source": [
    "def mulp2():\n",
    "    total1 = mulp1()\n",
    "    z = int(input('z = '))\n",
    "    total2 = total1 * z\n",
    "    print('final result = ', total2)"
   ]
  },
  {
   "cell_type": "code",
   "execution_count": 7,
   "id": "12a831f3",
   "metadata": {},
   "outputs": [
    {
     "name": "stdout",
     "output_type": "stream",
     "text": [
      "x = 2\n",
      "y = 5\n",
      "result  10\n",
      "z = 10\n",
      "final result =  100\n"
     ]
    }
   ],
   "source": [
    "mulp2()"
   ]
  },
  {
   "cell_type": "code",
   "execution_count": null,
   "id": "a2191b77",
   "metadata": {},
   "outputs": [],
   "source": []
  }
 ],
 "metadata": {
  "kernelspec": {
   "display_name": "Python 3 (ipykernel)",
   "language": "python",
   "name": "python3"
  },
  "language_info": {
   "codemirror_mode": {
    "name": "ipython",
    "version": 3
   },
   "file_extension": ".py",
   "mimetype": "text/x-python",
   "name": "python",
   "nbconvert_exporter": "python",
   "pygments_lexer": "ipython3",
   "version": "3.9.13"
  }
 },
 "nbformat": 4,
 "nbformat_minor": 5
}
