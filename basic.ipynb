{
 "cells": [
  {
   "cell_type": "code",
   "execution_count": null,
   "metadata": {},
   "outputs": [],
   "source": [
    "'hello'\n"
   ]
  },
  {
   "cell_type": "code",
   "execution_count": null,
   "metadata": {},
   "outputs": [],
   "source": [
    "print('Happy Ramadan','Mujtaba Ahmad Yusuf',sep=' & ', end=' | ')"
   ]
  },
  {
   "cell_type": "code",
   "execution_count": null,
   "metadata": {},
   "outputs": [],
   "source": [
    "name = 'Mujtaba Ahmad Yusuf'\n",
    "print(name)\n",
    "\n",
    "age =2+1\n",
    "print(age)\n",
    "\n",
    "id(name)\n",
    "# id(age)"
   ]
  },
  {
   "cell_type": "code",
   "execution_count": null,
   "metadata": {},
   "outputs": [],
   "source": [
    "import sys\n",
    "sys.getsizeof(name)"
   ]
  },
  {
   "cell_type": "markdown",
   "metadata": {},
   "source": [
    "Global VS Local\n"
   ]
  },
  {
   "cell_type": "code",
   "execution_count": null,
   "metadata": {},
   "outputs": [],
   "source": [
    "name = 'tuhinjamal'\n",
    "def getName():\n",
    "        global occuption  \n",
    "        occuption = 'engineer'\n",
    "        print('name is',name)\n",
    "        age = 32\n",
    "        print(age)\n",
    "getName()\n",
    "\n"
   ]
  },
  {
   "cell_type": "code",
   "execution_count": null,
   "metadata": {},
   "outputs": [],
   "source": [
    "print('occupation is ',occuption)\n",
    "print('age is ',age)"
   ]
  },
  {
   "cell_type": "code",
   "execution_count": null,
   "metadata": {},
   "outputs": [],
   "source": [
    "x = input()\n",
    "y = input()\n",
    "x = int (x)\n",
    "y = int(y)\n",
    "print(x+y)\n",
    "type(x)"
   ]
  },
  {
   "cell_type": "code",
   "execution_count": null,
   "metadata": {},
   "outputs": [],
   "source": [
    "import sys\n",
    "a = int(input('Enter the value of a'))\n",
    "b = float(input('Enter the value of b'))\n",
    "print(a+b)\n",
    "sys.getsizeof(a)\n",
    "# id(a)"
   ]
  },
  {
   "cell_type": "markdown",
   "metadata": {},
   "source": [
    "String Methods"
   ]
  },
  {
   "cell_type": "code",
   "execution_count": 3,
   "metadata": {},
   "outputs": [
    {
     "data": {
      "text/plain": [
       "'data science science science science science science is fun'"
      ]
     },
     "execution_count": 3,
     "metadata": {},
     "output_type": "execute_result"
    }
   ],
   "source": [
    "data = 'data science science science science science science is fun'\n",
    "type(data)\n",
    "data.count('science')\n",
    "# data.find('fun')\n",
    "data.find('f',50,55)\n",
    "# data.find('f',50,56)\n",
    "data.index('f',1,100)\n",
    "data.lower()\n"
   ]
  },
  {
   "cell_type": "code",
   "execution_count": 18,
   "metadata": {},
   "outputs": [
    {
     "data": {
      "text/plain": [
       "'AI SCIENCE science science science science science is fun'"
      ]
     },
     "execution_count": 18,
     "metadata": {},
     "output_type": "execute_result"
    }
   ],
   "source": [
    "data = 'data SCIENCE science science science science science is fun'\n",
    "\n",
    "data.upper()\n",
    "data.casefold()\n",
    "data.capitalize()\n",
    "data.swapcase()\n",
    "data.title()\n",
    "data.islower()\n",
    "data.isupper()\n",
    "data.isdigit()\n",
    "data.encode()\n",
    "type(data.encode())\n",
    "data.split()\n",
    "data.split()[1]\n",
    "data.center(100)\n",
    "data.replace('data', 'AI')\n"
   ]
  },
  {
   "cell_type": "code",
   "execution_count": 19,
   "metadata": {},
   "outputs": [
    {
     "name": "stdout",
     "output_type": "stream",
     "text": [
      "I have 300 Taka\n"
     ]
    }
   ],
   "source": [
    "x=100\n",
    "y=200\n",
    "z = x+y\n",
    "print('I have {} Taka'.format(z))"
   ]
  },
  {
   "cell_type": "markdown",
   "metadata": {},
   "source": [
    "Data Type\n",
    "there the 8 basic data types \n",
    "1.Numaric\n",
    "    numaric has 3 types of data a.integer b.float c.complex (combination of real and imaginary number like 5+1j)\n",
    "2.Boolean\n",
    "    boolean represents True and False (this must have to be written like True | False)\n",
    "3.Sequence\n",
    "    sequence has 5 types of data a.list b.tuples c.range d.arrays e.srtings\n",
    "    these are under the umbrella of sequence because they all maintain order like index\n",
    "4.Set\n",
    "    there are 2 types of set a.Frozenset b.set\n",
    "5.Mapping\n",
    "    Dictionary\n",
    "7. Data frame\n",
    "    a table or a two dimensional array-like structure\n",
    "8.Binary Types\n",
    "    a.Memory view b.Byte Array c.Bytes\n"
   ]
  },
  {
   "cell_type": "code",
   "execution_count": 30,
   "metadata": {},
   "outputs": [
    {
     "name": "stdout",
     "output_type": "stream",
     "text": [
      "7\n",
      "5.5\n",
      "(5+1j)\n"
     ]
    },
    {
     "name": "stdout",
     "output_type": "stream",
     "text": [
      "(1+10j)\n"
     ]
    }
   ],
   "source": [
    "# numaric\n",
    "a=7\n",
    "print(a)\n",
    "# type conversion , complex to int or float is not possible \n",
    "n= float(a)\n",
    "\n",
    "b=5.5\n",
    "print(b)\n",
    "c= 5+1j\n",
    "print(c)\n",
    "type(c)\n",
    "isinstance(n,float)\n",
    "\n",
    "compNum = complex(input('enter a complex number'))\n",
    "print(compNum)"
   ]
  },
  {
   "cell_type": "code",
   "execution_count": 31,
   "metadata": {},
   "outputs": [
    {
     "name": "stdout",
     "output_type": "stream",
     "text": [
      "True\n",
      "False\n"
     ]
    }
   ],
   "source": [
    "# boolean\n",
    "x= True\n",
    "print(x)\n",
    "y= False\n",
    "print(y)"
   ]
  },
  {
   "cell_type": "markdown",
   "metadata": {},
   "source": [
    "Sequence"
   ]
  },
  {
   "cell_type": "code",
   "execution_count": 40,
   "metadata": {},
   "outputs": [
    {
     "name": "stdout",
     "output_type": "stream",
     "text": [
      "5.5\n"
     ]
    }
   ],
   "source": [
    "# list\n",
    "listData = [1,a,[a,b,c],'hello world',True]\n",
    "print(listData[-3][1])"
   ]
  },
  {
   "cell_type": "code",
   "execution_count": 44,
   "metadata": {},
   "outputs": [
    {
     "name": "stdout",
     "output_type": "stream",
     "text": [
      "(7, 5.5, (5+1j), 1, 2)\n"
     ]
    }
   ],
   "source": [
    "# tuple\n",
    "tupleList= (a,b,c,1,2,3,[x,y,z])\n",
    "print(tupleList[0:5])"
   ]
  },
  {
   "cell_type": "code",
   "execution_count": 52,
   "metadata": {},
   "outputs": [
    {
     "name": "stdout",
     "output_type": "stream",
     "text": [
      "range(0, 10)\n",
      "value of  i =  1\n",
      "value of  i =  2\n",
      "value of  i =  3\n",
      "value of  i =  4\n",
      "value of  i =  5\n",
      "value of  i =  6\n",
      "value of  i =  7\n",
      "value of  i =  8\n",
      "value of  i =  9\n",
      "value of  i =  10\n",
      "5\n",
      "7\n",
      "9\n",
      "11\n",
      "13\n",
      "15\n",
      "17\n",
      "19\n",
      "---------------\n",
      "20\n",
      "18\n",
      "16\n",
      "14\n",
      "12\n",
      "10\n",
      "8\n",
      "6\n"
     ]
    }
   ],
   "source": [
    "# range \n",
    "rangeLength = range(10)\n",
    "print(rangeLength)\n",
    "for i in rangeLength:\n",
    "    print(\"value of  i = \",i+1)\n",
    "for j in range(5, 20, 2):\n",
    "    print(j)\n",
    "print('---------------')\n",
    "for k in range(20, 5, -2):\n",
    "    print(k)"
   ]
  },
  {
   "cell_type": "code",
   "execution_count": 55,
   "metadata": {},
   "outputs": [
    {
     "name": "stdout",
     "output_type": "stream",
     "text": [
      "array('i', [1, 2, 3, 4, 5])\n",
      "multple string\n",
      "\n",
      "hello python\n",
      "\n"
     ]
    }
   ],
   "source": [
    "# array\n",
    "import array as arr\n",
    "arrData = arr.array('i',[1,2,3,4,5])\n",
    "print(arrData)\n",
    "\n",
    "print('multple string')\n",
    "strData = '''\n",
    "hello python\n",
    "'''\n",
    "print(strData)"
   ]
  },
  {
   "cell_type": "code",
   "execution_count": 56,
   "metadata": {},
   "outputs": [
    {
     "name": "stdout",
     "output_type": "stream",
     "text": [
      "{'d', 5.5, 7, (5+1j), 'python'}\n"
     ]
    }
   ],
   "source": [
    "# set \n",
    "setData = {a,b,c,'d','python'}\n",
    "print(setData)"
   ]
  },
  {
   "cell_type": "code",
   "execution_count": 63,
   "metadata": {},
   "outputs": [
    {
     "name": "stdout",
     "output_type": "stream",
     "text": [
      "dict_keys(['name', 'value'])\n",
      "dict_values(['python', 6])\n"
     ]
    }
   ],
   "source": [
    "# dictionary\n",
    "dictData = {\n",
    "    'name' : 'python',\n",
    "    'value' : 1+5\n",
    "}\n",
    "print(dictData.keys())\n",
    "print(dictData.values())"
   ]
  },
  {
   "cell_type": "code",
   "execution_count": 76,
   "metadata": {},
   "outputs": [
    {
     "data": {
      "text/html": [
       "<div>\n",
       "<style scoped>\n",
       "    .dataframe tbody tr th:only-of-type {\n",
       "        vertical-align: middle;\n",
       "    }\n",
       "\n",
       "    .dataframe tbody tr th {\n",
       "        vertical-align: top;\n",
       "    }\n",
       "\n",
       "    .dataframe thead th {\n",
       "        text-align: right;\n",
       "    }\n",
       "</style>\n",
       "<table border=\"1\" class=\"dataframe\">\n",
       "  <thead>\n",
       "    <tr style=\"text-align: right;\">\n",
       "      <th></th>\n",
       "      <th>1</th>\n",
       "      <th>Eldon Base for stackable storage shelf, platinum</th>\n",
       "      <th>Muhammed MacIntyre</th>\n",
       "      <th>3</th>\n",
       "      <th>-213.25</th>\n",
       "      <th>38.94</th>\n",
       "      <th>35</th>\n",
       "      <th>Nunavut</th>\n",
       "      <th>Storage &amp; Organization</th>\n",
       "      <th>0.8</th>\n",
       "    </tr>\n",
       "  </thead>\n",
       "  <tbody>\n",
       "    <tr>\n",
       "      <th>0</th>\n",
       "      <td>2</td>\n",
       "      <td>1.7 Cubic Foot Compact \"Cube\" Office Refrigera...</td>\n",
       "      <td>Barry French</td>\n",
       "      <td>293</td>\n",
       "      <td>457.81</td>\n",
       "      <td>208.16</td>\n",
       "      <td>68.02</td>\n",
       "      <td>Nunavut</td>\n",
       "      <td>Appliances</td>\n",
       "      <td>0.58</td>\n",
       "    </tr>\n",
       "    <tr>\n",
       "      <th>1</th>\n",
       "      <td>3</td>\n",
       "      <td>Cardinal Slant-D� Ring Binder, Heavy Gauge Vinyl</td>\n",
       "      <td>Barry French</td>\n",
       "      <td>293</td>\n",
       "      <td>46.71</td>\n",
       "      <td>8.69</td>\n",
       "      <td>2.99</td>\n",
       "      <td>Nunavut</td>\n",
       "      <td>Binders and Binder Accessories</td>\n",
       "      <td>0.39</td>\n",
       "    </tr>\n",
       "  </tbody>\n",
       "</table>\n",
       "</div>"
      ],
      "text/plain": [
       "   1   Eldon Base for stackable storage shelf, platinum Muhammed MacIntyre  \\\n",
       "0  2  1.7 Cubic Foot Compact \"Cube\" Office Refrigera...       Barry French   \n",
       "1  3   Cardinal Slant-D� Ring Binder, Heavy Gauge Vinyl       Barry French   \n",
       "\n",
       "     3  -213.25   38.94     35  Nunavut          Storage & Organization   0.8  \n",
       "0  293   457.81  208.16  68.02  Nunavut                      Appliances  0.58  \n",
       "1  293    46.71    8.69   2.99  Nunavut  Binders and Binder Accessories  0.39  "
      ]
     },
     "execution_count": 76,
     "metadata": {},
     "output_type": "execute_result"
    }
   ],
   "source": [
    "# data frame (pandas)\n",
    "import pandas as pd\n",
    "df = pd.read_csv('./dummy.csv')\n",
    "# print(df)\n",
    "df.head(2)\n",
    "# df.info()\n",
    "# print(df.shape)"
   ]
  },
  {
   "cell_type": "code",
   "execution_count": 81,
   "metadata": {},
   "outputs": [
    {
     "name": "stdout",
     "output_type": "stream",
     "text": [
      "bytearray(b'A,B,C,D')\n",
      "<class 'bytearray'>\n",
      "<memory at 0x00000132A0926B00>\n",
      "65\n",
      "97\n"
     ]
    }
   ],
   "source": [
    "# binary types\n",
    "byte_arr = bytearray('A,B,C,D','utf-8')\n",
    "print(byte_arr)\n",
    "print(type(byte_arr))\n",
    "print(memoryview(byte_arr))\n",
    "print(memoryview(byte_arr)[0])\n",
    "mv = memoryview(byte_arr)[0]\n",
    "mv= 97\n",
    "print(mv)\n"
   ]
  }
 ],
 "metadata": {
  "kernelspec": {
   "display_name": "Python 3",
   "language": "python",
   "name": "python3"
  },
  "language_info": {
   "codemirror_mode": {
    "name": "ipython",
    "version": 3
   },
   "file_extension": ".py",
   "mimetype": "text/x-python",
   "name": "python",
   "nbconvert_exporter": "python",
   "pygments_lexer": "ipython3",
   "version": "3.12.2"
  }
 },
 "nbformat": 4,
 "nbformat_minor": 2
}
